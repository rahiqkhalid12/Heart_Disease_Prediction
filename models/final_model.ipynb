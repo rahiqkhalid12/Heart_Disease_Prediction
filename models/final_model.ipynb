{
 "cells": [
  {
   "cell_type": "code",
   "execution_count": 2,
   "id": "e77685bd",
   "metadata": {},
   "outputs": [
    {
     "name": "stdout",
     "output_type": "stream",
     "text": [
      "Model pipeline successfully exported as 'final_model.pkl'\n"
     ]
    }
   ],
   "source": [
    "import pandas as pd\n",
    "import joblib\n",
    "from sklearn.model_selection import train_test_split, RandomizedSearchCV\n",
    "from sklearn.ensemble import RandomForestClassifier\n",
    "from sklearn.pipeline import Pipeline\n",
    "from sklearn.preprocessing import StandardScaler\n",
    "import sys\n",
    "sys.path.append('../utils')\n",
    "from data_prep import prepare_data\n",
    "\n",
    "# Step 1: Load and prepare the data\n",
    "X, y = prepare_data('../data/Heart_Disease.csv')\n",
    "y_binary = y.apply(lambda x: 0 if x == 0 else 1)\n",
    "X_train, X_test, y_train, y_test = train_test_split(X, y_binary, test_size=0.2, random_state=42)\n",
    "\n",
    "# Step 2: Define the best hyperparameters from your previous sprint\n",
    "best_params = {'max_depth': 36, 'min_samples_split': 12, 'n_estimators': 64}\n",
    "\n",
    "# Step 3: Create a preprocessing and modeling pipeline\n",
    "# This pipeline will first standardize the data and then apply the Random Forest model\n",
    "pipeline = Pipeline([\n",
    "    ('scaler', StandardScaler()),\n",
    "    ('classifier', RandomForestClassifier(random_state=42, **best_params))\n",
    "])\n",
    "\n",
    "# Step 4: Fit the pipeline to the training data\n",
    "pipeline.fit(X_train, y_train)\n",
    "\n",
    "# Export the trained pipeline as a .pkl file\n",
    "model_filename = 'final_model.pkl'\n",
    "joblib.dump(pipeline, model_filename)\n",
    "\n",
    "print(f\"Model pipeline successfully exported as '{model_filename}'\")"
   ]
  },
  {
   "cell_type": "code",
   "execution_count": null,
   "id": "838c2abf",
   "metadata": {},
   "outputs": [],
   "source": []
  }
 ],
 "metadata": {
  "kernelspec": {
   "display_name": "Python 3 (ipykernel)",
   "language": "python",
   "name": "python3"
  },
  "language_info": {
   "codemirror_mode": {
    "name": "ipython",
    "version": 3
   },
   "file_extension": ".py",
   "mimetype": "text/x-python",
   "name": "python",
   "nbconvert_exporter": "python",
   "pygments_lexer": "ipython3",
   "version": "3.13.5"
  }
 },
 "nbformat": 4,
 "nbformat_minor": 5
}
