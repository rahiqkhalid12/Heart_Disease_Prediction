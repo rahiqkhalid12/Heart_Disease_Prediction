{
 "cells": [
  {
   "cell_type": "code",
   "execution_count": 1,
   "id": "5c570e9a",
   "metadata": {},
   "outputs": [
    {
     "name": "stdout",
     "output_type": "stream",
     "text": [
      "Starting GridSearchCV. This may take a few moments...\n",
      "Fitting 5 folds for each of 36 candidates, totalling 180 fits\n",
      "Best hyperparameters found:  {'max_depth': 20, 'min_samples_split': 10, 'n_estimators': 100}\n",
      "Best cross-validation AUC score:  0.8917909251242586\n",
      "\n",
      "Optimized Random Forest Model Performance on Test Set:\n",
      "Accuracy: 0.8689\n",
      "Precision: 0.8689\n",
      "Recall: 0.8689\n",
      "F1-Score: 0.8689\n",
      "AUC Score: 0.9440\n"
     ]
    }
   ],
   "source": [
    "import sys\n",
    "sys.path.append('../utils')\n",
    "from data_prep import prepare_data\n",
    "import pandas as pd\n",
    "from sklearn.model_selection import train_test_split, GridSearchCV\n",
    "from sklearn.ensemble import RandomForestClassifier\n",
    "from sklearn.metrics import accuracy_score, precision_score, recall_score, f1_score, roc_auc_score\n",
    "\n",
    "X, y = prepare_data('../data/Heart_Disease.csv')\n",
    "\n",
    "# Convert the target variable to a binary format\n",
    "y_binary = y.apply(lambda x: 0 if x == 0 else 1)\n",
    "\n",
    "# Split the dataset\n",
    "X_train, X_test, y_train, y_test = train_test_split(X, y_binary, test_size=0.2, random_state=42)\n",
    "\n",
    "# Define the parameter grid for GridSearchCV\n",
    "param_grid = {\n",
    "    'n_estimators': [50, 100, 200],\n",
    "    'max_depth': [10, 20, 30, None],\n",
    "    'min_samples_split': [2, 5, 10]\n",
    "}\n",
    "\n",
    "# Create a GridSearchCV object\n",
    "rf_model = RandomForestClassifier(random_state=42)\n",
    "grid_search = GridSearchCV(estimator=rf_model, param_grid=param_grid, cv=5, scoring='roc_auc', n_jobs=-1, verbose=1)\n",
    "\n",
    "# Fit the grid search to the training data\n",
    "print(\"Starting GridSearchCV. This may take a few moments...\")\n",
    "grid_search.fit(X_train, y_train)\n",
    "\n",
    "# Print the best parameters and best score\n",
    "print(\"Best hyperparameters found: \", grid_search.best_params_)\n",
    "print(\"Best cross-validation AUC score: \", grid_search.best_score_)\n",
    "\n",
    "# Evaluate the best model on the test set\n",
    "best_rf_model = grid_search.best_estimator_\n",
    "y_pred_best = best_rf_model.predict(X_test)\n",
    "y_prob_best = best_rf_model.predict_proba(X_test)[:, 1]\n",
    "\n",
    "# Print final evaluation metrics for the optimized model\n",
    "print(\"\\nOptimized Random Forest Model Performance on Test Set:\")\n",
    "print(f\"Accuracy: {accuracy_score(y_test, y_pred_best):.4f}\")\n",
    "print(f\"Precision: {precision_score(y_test, y_pred_best, average='weighted', zero_division=0):.4f}\")\n",
    "print(f\"Recall: {recall_score(y_test, y_pred_best, average='weighted', zero_division=0):.4f}\")\n",
    "print(f\"F1-Score: {f1_score(y_test, y_pred_best, average='weighted', zero_division=0):.4f}\")\n",
    "print(f\"AUC Score: {roc_auc_score(y_test, y_prob_best):.4f}\")"
   ]
  },
  {
   "cell_type": "code",
   "execution_count": 2,
   "id": "eac8304e",
   "metadata": {},
   "outputs": [
    {
     "name": "stdout",
     "output_type": "stream",
     "text": [
      "Starting RandomizedSearchCV. This may take a few moments...\n",
      "Fitting 5 folds for each of 20 candidates, totalling 100 fits\n",
      "Best hyperparameters found:  {'max_depth': 36, 'min_samples_split': 12, 'n_estimators': 64}\n",
      "Best cross-validation AUC score:  0.8904120570787238\n",
      "\n",
      "Optimized Random Forest Model Performance on Test Set:\n",
      "AUC Score: 0.9472\n"
     ]
    }
   ],
   "source": [
    "from sklearn.model_selection import train_test_split, RandomizedSearchCV\n",
    "from scipy.stats import randint\n",
    "\n",
    "# Convert the target variable to a binary format\n",
    "y_binary = y.apply(lambda x: 0 if x == 0 else 1)\n",
    "\n",
    "# Split the dataset\n",
    "X_train, X_test, y_train, y_test = train_test_split(X, y_binary, test_size=0.2, random_state=42)\n",
    "\n",
    "# Define the parameter distributions for RandomizedSearchCV\n",
    "param_distributions = {\n",
    "    'n_estimators': randint(low=50, high=200),\n",
    "    'max_depth': randint(low=10, high=50),\n",
    "    'min_samples_split': randint(low=2, high=15)\n",
    "}\n",
    "\n",
    "# Create a RandomizedSearchCV object\n",
    "rf_model = RandomForestClassifier(random_state=42)\n",
    "random_search = RandomizedSearchCV(estimator=rf_model, param_distributions=param_distributions, n_iter=20, cv=5, scoring='roc_auc', n_jobs=-1, verbose=1, random_state=42)\n",
    "\n",
    "# Fit the random search to the training data\n",
    "print(\"Starting RandomizedSearchCV. This may take a few moments...\")\n",
    "random_search.fit(X_train, y_train)\n",
    "\n",
    "# Step 6: Print the best parameters and best score\n",
    "print(\"Best hyperparameters found: \", random_search.best_params_)\n",
    "print(\"Best cross-validation AUC score: \", random_search.best_score_)\n",
    "\n",
    "# Evaluate the best model on the test set\n",
    "best_random_model = random_search.best_estimator_\n",
    "y_pred_best_random = best_random_model.predict(X_test)\n",
    "y_prob_best_random = best_random_model.predict_proba(X_test)[:, 1]\n",
    "\n",
    "# Print final evaluation metrics for the optimized model\n",
    "print(\"\\nOptimized Random Forest Model Performance on Test Set:\")\n",
    "print(f\"AUC Score: {roc_auc_score(y_test, y_prob_best_random):.4f}\")"
   ]
  },
  {
   "cell_type": "code",
   "execution_count": 3,
   "id": "b1726865",
   "metadata": {},
   "outputs": [
    {
     "name": "stdout",
     "output_type": "stream",
     "text": [
      "Training Baseline Random Forest Model...\n",
      "\n",
      "Baseline Random Forest Model Performance on Test Set:\n",
      "Accuracy: 0.8525\n",
      "Precision: 0.8566\n",
      "Recall: 0.8525\n",
      "F1-Score: 0.8525\n",
      "AUC Score: 0.9418\n"
     ]
    }
   ],
   "source": [
    "y_binary = y.apply(lambda x: 0 if x == 0 else 1)\n",
    "X_train, X_test, y_train, y_test = train_test_split(X, y_binary, test_size=0.2, random_state=42)\n",
    "\n",
    "#  Define and train the baseline model (with default hyperparameters)\n",
    "print(\"Training Baseline Random Forest Model...\")\n",
    "baseline_rf = RandomForestClassifier(random_state=42)\n",
    "baseline_rf.fit(X_train, y_train)\n",
    "\n",
    "# Make predictions and calculate performance metrics\n",
    "y_pred_baseline = baseline_rf.predict(X_test)\n",
    "y_prob_baseline = baseline_rf.predict_proba(X_test)[:, 1]\n",
    "\n",
    "# Evaluate the baseline model\n",
    "print(\"\\nBaseline Random Forest Model Performance on Test Set:\")\n",
    "print(f\"Accuracy: {accuracy_score(y_test, y_pred_baseline):.4f}\")\n",
    "print(f\"Precision: {precision_score(y_test, y_pred_baseline, average='weighted', zero_division=0):.4f}\")\n",
    "print(f\"Recall: {recall_score(y_test, y_pred_baseline, average='weighted', zero_division=0):.4f}\")\n",
    "print(f\"F1-Score: {f1_score(y_test, y_pred_baseline, average='weighted', zero_division=0):.4f}\")\n",
    "print(f\"AUC Score: {roc_auc_score(y_test, y_prob_baseline):.4f}\")"
   ]
  },
  {
   "cell_type": "code",
   "execution_count": null,
   "id": "d4ca9d0b",
   "metadata": {},
   "outputs": [],
   "source": []
  }
 ],
 "metadata": {
  "kernelspec": {
   "display_name": "Python 3 (ipykernel)",
   "language": "python",
   "name": "python3"
  },
  "language_info": {
   "codemirror_mode": {
    "name": "ipython",
    "version": 3
   },
   "file_extension": ".py",
   "mimetype": "text/x-python",
   "name": "python",
   "nbconvert_exporter": "python",
   "pygments_lexer": "ipython3",
   "version": "3.11.5"
  }
 },
 "nbformat": 4,
 "nbformat_minor": 5
}
